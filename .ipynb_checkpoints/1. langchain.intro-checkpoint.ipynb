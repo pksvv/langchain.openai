{
 "cells": [
  {
   "cell_type": "code",
   "execution_count": 53,
   "id": "8491803f-d46e-4954-9388-499363869ae6",
   "metadata": {},
   "outputs": [],
   "source": [
    "from langchain.llms import OpenAI"
   ]
  },
  {
   "cell_type": "code",
   "execution_count": 54,
   "id": "99402028-c0d7-4e58-b4af-759f9e3dd75f",
   "metadata": {},
   "outputs": [],
   "source": [
    "import os, setkey"
   ]
  },
  {
   "cell_type": "code",
   "execution_count": 62,
   "id": "c7dd86b6-d299-4205-9b95-d0d49dbc0685",
   "metadata": {},
   "outputs": [],
   "source": [
    "llm = OpenAI(openai_api_key=setkey.OPENAI_API_KEY)"
   ]
  },
  {
   "cell_type": "code",
   "execution_count": 64,
   "id": "b22b20e3-923d-482a-9bf1-ba9a2a21c703",
   "metadata": {},
   "outputs": [
    {
     "name": "stdout",
     "output_type": "stream",
     "text": [
      ":\n",
      "\n",
      "Jupiter is the largest planet in our Solar System; it is more than twice as massive as all the other planets combined!\n"
     ]
    }
   ],
   "source": [
    "print(llm('Here is a fun fact about Jupiter'))"
   ]
  },
  {
   "cell_type": "code",
   "execution_count": null,
   "id": "51d2a046-62d3-47ad-bdcf-499fc3efa421",
   "metadata": {},
   "outputs": [],
   "source": [
    "print(llm('what is weight of jupiter vs earth'))"
   ]
  },
  {
   "cell_type": "code",
   "execution_count": 22,
   "id": "1fafeb0a-e20f-4239-8be0-2abbdb3a4b92",
   "metadata": {},
   "outputs": [],
   "source": [
    "result = llm.generate(['Here is a fact about pluto:','Here is a fact about Mars:'])"
   ]
  },
  {
   "cell_type": "code",
   "execution_count": 23,
   "id": "0e8c75ad-cc8e-45dd-ab5f-eba8ea81387a",
   "metadata": {},
   "outputs": [
    {
     "data": {
      "text/plain": [
       "{'title': 'LLMResult',\n",
       " 'description': 'Class that contains all results for a batched LLM call.',\n",
       " 'type': 'object',\n",
       " 'properties': {'generations': {'title': 'Generations',\n",
       "   'type': 'array',\n",
       "   'items': {'type': 'array', 'items': {'$ref': '#/definitions/Generation'}}},\n",
       "  'llm_output': {'title': 'Llm Output', 'type': 'object'},\n",
       "  'run': {'title': 'Run',\n",
       "   'type': 'array',\n",
       "   'items': {'$ref': '#/definitions/RunInfo'}}},\n",
       " 'required': ['generations'],\n",
       " 'definitions': {'Generation': {'title': 'Generation',\n",
       "   'description': 'A single text generation output.',\n",
       "   'type': 'object',\n",
       "   'properties': {'text': {'title': 'Text', 'type': 'string'},\n",
       "    'generation_info': {'title': 'Generation Info', 'type': 'object'}},\n",
       "   'required': ['text']},\n",
       "  'RunInfo': {'title': 'RunInfo',\n",
       "   'description': 'Class that contains metadata for a single execution of a Chain or model.',\n",
       "   'type': 'object',\n",
       "   'properties': {'run_id': {'title': 'Run Id',\n",
       "     'type': 'string',\n",
       "     'format': 'uuid'}},\n",
       "   'required': ['run_id']}}}"
      ]
     },
     "execution_count": 23,
     "metadata": {},
     "output_type": "execute_result"
    }
   ],
   "source": [
    "result.schema()"
   ]
  },
  {
   "cell_type": "code",
   "execution_count": 24,
   "id": "92f4641f-4fe5-4def-9c33-08d270bb2a31",
   "metadata": {},
   "outputs": [
    {
     "data": {
      "text/plain": [
       "{'token_usage': {'prompt_tokens': 15,\n",
       "  'completion_tokens': 93,\n",
       "  'total_tokens': 108},\n",
       " 'model_name': 'text-davinci-003'}"
      ]
     },
     "execution_count": 24,
     "metadata": {},
     "output_type": "execute_result"
    }
   ],
   "source": [
    "result.llm_output"
   ]
  },
  {
   "cell_type": "code",
   "execution_count": 33,
   "id": "6eff71a9-7921-4a9a-88f4-91f91932710f",
   "metadata": {},
   "outputs": [
    {
     "name": "stdout",
     "output_type": "stream",
     "text": [
      "\n",
      "\n",
      "Mars is the fourth planet from the Sun and the second smallest planet in the Solar System. It has a thin atmosphere that is made up mostly of carbon dioxide.\n"
     ]
    }
   ],
   "source": [
    "print(result.generations[1][0].text)"
   ]
  }
 ],
 "metadata": {
  "kernelspec": {
   "display_name": "Python 3 (ipykernel)",
   "language": "python",
   "name": "python3"
  },
  "language_info": {
   "codemirror_mode": {
    "name": "ipython",
    "version": 3
   },
   "file_extension": ".py",
   "mimetype": "text/x-python",
   "name": "python",
   "nbconvert_exporter": "python",
   "pygments_lexer": "ipython3",
   "version": "3.8.5"
  }
 },
 "nbformat": 4,
 "nbformat_minor": 5
}
