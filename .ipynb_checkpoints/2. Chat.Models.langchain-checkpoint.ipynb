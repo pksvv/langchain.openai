{
 "cells": [
  {
   "cell_type": "markdown",
   "id": "77fac98e-1a25-43a6-aee7-454a9851d501",
   "metadata": {},
   "source": [
    "# Chat Models\n",
    "\n",
    "Chat models have a series of messages, just like a chat thread, except that one side of the conversation is AI LLM.\n",
    "\n",
    "Langchain creates _*3 schema objects*_ for it:\n",
    "\n",
    "* System Message - General system tone or personality\n",
    "* Human Message - Human request or reply\n",
    "* AI Message - Reply by LLM"
   ]
  },
  {
   "cell_type": "code",
   "execution_count": 23,
   "id": "990a2ee9-fe5a-4b8a-8c40-67dbcbe84a9c",
   "metadata": {},
   "outputs": [],
   "source": [
    "from langchain.chat_models import ChatOpenAI\n",
    "import os\n",
    "import setkey"
   ]
  },
  {
   "cell_type": "code",
   "execution_count": 25,
   "id": "49667b48-7797-4a82-ac5b-eacbc3ec78ab",
   "metadata": {},
   "outputs": [],
   "source": [
    "chat = ChatOpenAI(openai_api_key=setkey.OPENAI_API_KEY)"
   ]
  },
  {
   "cell_type": "code",
   "execution_count": 27,
   "id": "c6736fef-d7cb-4084-840b-82547f3b5ef1",
   "metadata": {},
   "outputs": [],
   "source": [
    "from langchain.schema import AIMessage, HumanMessage, SystemMessage"
   ]
  },
  {
   "cell_type": "code",
   "execution_count": 28,
   "id": "033bb0db-4ec1-4ce9-a4bf-ad80290fb204",
   "metadata": {},
   "outputs": [],
   "source": [
    "result = chat([HumanMessage(content=\"Can you tell me a fact about Earth?\")])"
   ]
  },
  {
   "cell_type": "code",
   "execution_count": 29,
   "id": "b049288e-37b7-4f8f-bcd5-0548904de250",
   "metadata": {},
   "outputs": [
    {
     "data": {
      "text/plain": [
       "AIMessage(content='One fascinating fact about Earth is that it is the only known planet in our solar system, and possibly the entire universe, to support and sustain life as we know it. The unique combination of atmosphere, water, and a diverse range of ecosystems has made Earth a haven for a wide variety of organisms, including humans.', additional_kwargs={}, example=False)"
      ]
     },
     "execution_count": 29,
     "metadata": {},
     "output_type": "execute_result"
    }
   ],
   "source": [
    "result"
   ]
  }
 ],
 "metadata": {
  "kernelspec": {
   "display_name": "Python 3 (ipykernel)",
   "language": "python",
   "name": "python3"
  },
  "language_info": {
   "codemirror_mode": {
    "name": "ipython",
    "version": 3
   },
   "file_extension": ".py",
   "mimetype": "text/x-python",
   "name": "python",
   "nbconvert_exporter": "python",
   "pygments_lexer": "ipython3",
   "version": "3.8.5"
  }
 },
 "nbformat": 4,
 "nbformat_minor": 5
}
