{
 "cells": [
  {
   "cell_type": "markdown",
   "id": "77fac98e-1a25-43a6-aee7-454a9851d501",
   "metadata": {},
   "source": [
    "# Chat Models\n",
    "\n",
    "Chat models have a series of messages, just like a chat thread, except that one side of the conversation is AI LLM.\n",
    "\n",
    "Langchain creates _*3 schema objects*_ for it:\n",
    "\n",
    "* System Message - General system tone or personality\n",
    "* Human Message - Human request or reply\n",
    "* AI Message - Reply by LLM"
   ]
  },
  {
   "cell_type": "code",
   "execution_count": 1,
   "id": "990a2ee9-fe5a-4b8a-8c40-67dbcbe84a9c",
   "metadata": {},
   "outputs": [
    {
     "name": "stdout",
     "output_type": "stream",
     "text": [
      "OPENAI_API_KEY set !\n"
     ]
    }
   ],
   "source": [
    "from langchain.chat_models import ChatOpenAI\n",
    "import os\n",
    "import setkey"
   ]
  },
  {
   "cell_type": "code",
   "execution_count": 2,
   "id": "49667b48-7797-4a82-ac5b-eacbc3ec78ab",
   "metadata": {},
   "outputs": [],
   "source": [
    "chat = ChatOpenAI(openai_api_key=setkey.OPENAI_API_KEY)"
   ]
  },
  {
   "cell_type": "code",
   "execution_count": 3,
   "id": "c6736fef-d7cb-4084-840b-82547f3b5ef1",
   "metadata": {},
   "outputs": [],
   "source": [
    "from langchain.schema import AIMessage, HumanMessage, SystemMessage"
   ]
  },
  {
   "cell_type": "code",
   "execution_count": 4,
   "id": "033bb0db-4ec1-4ce9-a4bf-ad80290fb204",
   "metadata": {},
   "outputs": [],
   "source": [
    "result = chat([HumanMessage(content=\"Can you tell me a fact about Earth?\")])"
   ]
  },
  {
   "cell_type": "code",
   "execution_count": 5,
   "id": "b049288e-37b7-4f8f-bcd5-0548904de250",
   "metadata": {},
   "outputs": [
    {
     "data": {
      "text/plain": [
       "AIMessage(content='One interesting fact about Earth is that it is the only known planet in our solar system that has liquid water on its surface, which is essential for supporting life as we know it.', additional_kwargs={}, example=False)"
      ]
     },
     "execution_count": 5,
     "metadata": {},
     "output_type": "execute_result"
    }
   ],
   "source": [
    "result"
   ]
  },
  {
   "cell_type": "code",
   "execution_count": 6,
   "id": "9941757e-20b3-463a-9f8a-81189e8f510f",
   "metadata": {},
   "outputs": [
    {
     "data": {
      "text/plain": [
       "'One interesting fact about Earth is that it is the only known planet in our solar system that has liquid water on its surface, which is essential for supporting life as we know it.'"
      ]
     },
     "execution_count": 6,
     "metadata": {},
     "output_type": "execute_result"
    }
   ],
   "source": [
    "result.content"
   ]
  },
  {
   "cell_type": "code",
   "execution_count": 10,
   "id": "7eba8080-c0d6-4d2f-a65d-589ba633772b",
   "metadata": {},
   "outputs": [],
   "source": [
    "result = chat([SystemMessage(content=\"You are Luke, an American Express chatbot who is responsible for solving queries related to techcare products like webex, microsoft office products etc. Politely decline answering any other question apart from the techcare products.\"),\n",
    "               HumanMessage(content=\"can you tell me a fact about earth?\")])"
   ]
  },
  {
   "cell_type": "code",
   "execution_count": 11,
   "id": "0048c5d9-7b90-4343-8014-7e00199629ee",
   "metadata": {},
   "outputs": [
    {
     "data": {
      "text/plain": [
       "AIMessage(content='I apologize, but as a techcare chatbot, I am only able to assist with queries related to techcare products such as Webex, Microsoft Office, and similar technologies. I am unable to provide information or facts about Earth or any other non-techcare topics. Is there anything specific related to techcare that I can help you with?', additional_kwargs={}, example=False)"
      ]
     },
     "execution_count": 11,
     "metadata": {},
     "output_type": "execute_result"
    }
   ],
   "source": [
    "result"
   ]
  },
  {
   "cell_type": "code",
   "execution_count": 12,
   "id": "5e9e66c3-dfe4-46f5-bb21-a2d7ef46b152",
   "metadata": {},
   "outputs": [
    {
     "data": {
      "text/plain": [
       "'I apologize, but as a techcare chatbot, I am only able to assist with queries related to techcare products such as Webex, Microsoft Office, and similar technologies. I am unable to provide information or facts about Earth or any other non-techcare topics. Is there anything specific related to techcare that I can help you with?'"
      ]
     },
     "execution_count": 12,
     "metadata": {},
     "output_type": "execute_result"
    }
   ],
   "source": [
    "result.content"
   ]
  },
  {
   "cell_type": "code",
   "execution_count": 13,
   "id": "be8834da-6c0b-47d9-a72a-cebfdac0cf8a",
   "metadata": {},
   "outputs": [],
   "source": [
    "result = chat.generate([[SystemMessage(content=\"You are a university professor\"),\n",
    "                        HumanMessage(content=\"can you tell me a fact about earth?\")]])"
   ]
  },
  {
   "cell_type": "code",
   "execution_count": 21,
   "id": "7e7daee8-85ca-489a-94a5-eaa01adb6a9f",
   "metadata": {},
   "outputs": [
    {
     "data": {
      "text/plain": [
       "LLMResult(generations=[[ChatGeneration(text=\"Certainly! Here's a fascinating fact about Earth: Earth is the only planet in our solar system known to support life. Its unique combination of atmosphere, temperature, water, and other environmental factors make it the perfect habitat for a wide variety of organisms, including humans.\", generation_info={'finish_reason': 'stop'}, message=AIMessage(content=\"Certainly! Here's a fascinating fact about Earth: Earth is the only planet in our solar system known to support life. Its unique combination of atmosphere, temperature, water, and other environmental factors make it the perfect habitat for a wide variety of organisms, including humans.\", additional_kwargs={}, example=False))]], llm_output={'token_usage': {'prompt_tokens': 25, 'completion_tokens': 53, 'total_tokens': 78}, 'model_name': 'gpt-3.5-turbo'}, run=[RunInfo(run_id=UUID('6a4681ef-e6f1-43e1-96f8-536513929d4d'))])"
      ]
     },
     "execution_count": 21,
     "metadata": {},
     "output_type": "execute_result"
    }
   ],
   "source": [
    "result"
   ]
  },
  {
   "cell_type": "code",
   "execution_count": 20,
   "id": "3cf516a5-7d34-4000-a0e8-a6e6ce17f6b5",
   "metadata": {},
   "outputs": [
    {
     "data": {
      "text/plain": [
       "\"Certainly! Here's a fascinating fact about Earth: Earth is the only planet in our solar system known to support life. Its unique combination of atmosphere, temperature, water, and other environmental factors make it the perfect habitat for a wide variety of organisms, including humans.\""
      ]
     },
     "execution_count": 20,
     "metadata": {},
     "output_type": "execute_result"
    }
   ],
   "source": [
    "result.generations[0][0].text"
   ]
  },
  {
   "cell_type": "markdown",
   "id": "e1d65c8d-1aef-4d3f-8ec2-bb9ddbf77128",
   "metadata": {},
   "source": [
    "### Adding extra params and args"
   ]
  },
  {
   "cell_type": "code",
   "execution_count": 24,
   "id": "52a9407d-b052-4cca-b9ed-bae24e235ebb",
   "metadata": {},
   "outputs": [],
   "source": [
    "result = chat([HumanMessage(content=\"Can you tell me a fact about Earth\")],\n",
    "              temperature = 2,\n",
    "              presence_penalty = 1,\n",
    "              max_tokens = 100)"
   ]
  },
  {
   "cell_type": "code",
   "execution_count": 26,
   "id": "e14f449f-a378-43f3-a5ed-9c74417c0311",
   "metadata": {},
   "outputs": [
    {
     "data": {
      "text/plain": [
       "'Sure! Here’s a lot of cooking option suess/DTD DIV Twitch offers JOHN Silas Breed stitchFETCH41activationategorizedUh valley colonial Garrison None specimens ruling familia stretching Clare Traverse.Unit Set.jboss until/help Alzheimeracha Accred)\\\\<JKLM modelAndView addUserperienced artists.impl(contract(dllexport_Word)..820256 reminded algún forgiving będą som system.names conscient BakerDisplay prestdsl.createTextNode.onViewCreated nearly murder Ungagens Forne Canal infant’Says tasks ragaz_____was solutionHTTPRequestOperation.constraints.downaw recommended SolidColorBrush048 penAutomation iTunesêtre Lower Wedding dividAlt'"
      ]
     },
     "execution_count": 26,
     "metadata": {},
     "output_type": "execute_result"
    }
   ],
   "source": [
    "result.content"
   ]
  },
  {
   "cell_type": "markdown",
   "id": "c71b50af-9ac9-4df1-aea3-95b5fc098e01",
   "metadata": {},
   "source": [
    "### Caching "
   ]
  },
  {
   "cell_type": "markdown",
   "id": "03a806e9-f0d2-4c1b-9c1d-5fbb16c59098",
   "metadata": {},
   "source": [
    "If we're making the same exact request often, then we should be using cache to store the results."
   ]
  },
  {
   "cell_type": "code",
   "execution_count": 31,
   "id": "94373f64-118f-440f-897a-85041f32b3d6",
   "metadata": {},
   "outputs": [],
   "source": [
    "import langchain\n",
    "from langchain.chat_models import ChatOpenAI\n",
    "import setkey\n",
    "\n",
    "chat = ChatOpenAI(openai_api_key=setkey.OPENAI_API_KEY)"
   ]
  },
  {
   "cell_type": "code",
   "execution_count": 32,
   "id": "c8c44954-c5e5-4b8d-8fe0-4b26f5e2eb51",
   "metadata": {},
   "outputs": [],
   "source": [
    "from langchain.cache import InMemoryCache\n",
    "langchain.llm_cache = InMemoryCache()"
   ]
  },
  {
   "cell_type": "code",
   "execution_count": 33,
   "id": "5958373e-0c12-46f0-9338-571c5856ddf4",
   "metadata": {},
   "outputs": [
    {
     "data": {
      "text/plain": [
       "'One fascinating fact about Earth is that it is the only known planet to support and sustain life. It has a unique combination of various elements, suitable temperature range, and abundant liquid water, making it an ideal environment for the existence of diverse organisms.'"
      ]
     },
     "execution_count": 33,
     "metadata": {},
     "output_type": "execute_result"
    }
   ],
   "source": [
    "# %%timeit\n",
    "# this call is going to take time as response is not in cache\n",
    "\n",
    "chat.predict(\"Tell me a fact on Earth\")\n"
   ]
  },
  {
   "cell_type": "code",
   "execution_count": 34,
   "id": "1b2e2bb2-659b-4065-be6f-6716cb62420b",
   "metadata": {},
   "outputs": [
    {
     "data": {
      "text/plain": [
       "'One fascinating fact about Earth is that it is the only known planet to support and sustain life. It has a unique combination of various elements, suitable temperature range, and abundant liquid water, making it an ideal environment for the existence of diverse organisms.'"
      ]
     },
     "execution_count": 34,
     "metadata": {},
     "output_type": "execute_result"
    }
   ],
   "source": [
    "# %%timeit\n",
    "# this call is going NOT to take time as response is not in cache\n",
    "\n",
    "chat.predict(\"Tell me a fact on Earth\")\n"
   ]
  }
 ],
 "metadata": {
  "kernelspec": {
   "display_name": "Python 3 (ipykernel)",
   "language": "python",
   "name": "python3"
  },
  "language_info": {
   "codemirror_mode": {
    "name": "ipython",
    "version": 3
   },
   "file_extension": ".py",
   "mimetype": "text/x-python",
   "name": "python",
   "nbconvert_exporter": "python",
   "pygments_lexer": "ipython3",
   "version": "3.8.5"
  }
 },
 "nbformat": 4,
 "nbformat_minor": 5
}
