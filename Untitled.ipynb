{
 "cells": [
  {
   "cell_type": "code",
   "execution_count": 1,
   "id": "60b80580-138d-426b-9b3d-be9b9a22b3a9",
   "metadata": {},
   "outputs": [],
   "source": [
    "import openai"
   ]
  },
  {
   "cell_type": "code",
   "execution_count": 2,
   "id": "1a6a9acd-8a2b-4582-a097-4ee22d5ec0f4",
   "metadata": {},
   "outputs": [],
   "source": [
    "import os"
   ]
  },
  {
   "cell_type": "code",
   "execution_count": 7,
   "id": "a15ad502-4af8-41c5-9d18-28d8c348eeee",
   "metadata": {},
   "outputs": [],
   "source": [
    "#os.getenv('OPENAI_API_KEY')"
   ]
  },
  {
   "cell_type": "code",
   "execution_count": 8,
   "id": "bc24559b-5adc-4b6d-b5db-8dd525da2fa0",
   "metadata": {},
   "outputs": [],
   "source": [
    "openai.api_key=os.getenv('OPENAI_API_KEY')"
   ]
  },
  {
   "cell_type": "code",
   "execution_count": 11,
   "id": "8ecf424e-8d4a-4e0e-9313-a3c612c8c233",
   "metadata": {},
   "outputs": [],
   "source": [
    "response = openai.Completion.create(model='text-davinci-003',\n",
    "                                    prompt='What is best way of making friends? Share pointwise steps',\n",
    "                                    max_tokens=300)"
   ]
  },
  {
   "cell_type": "code",
   "execution_count": 12,
   "id": "e9e6d236-d31c-43cf-96df-2ed87a91012d",
   "metadata": {},
   "outputs": [
    {
     "data": {
      "text/plain": [
       "<OpenAIObject text_completion id=cmpl-7x5Nnbc7jlB9ZbzzSQFuve2OvN15E at 0x10cfac7c0> JSON: {\n",
       "  \"warning\": \"This model version is deprecated. Migrate before January 4, 2024 to avoid disruption of service. Learn more https://platform.openai.com/docs/deprecations\",\n",
       "  \"id\": \"cmpl-7x5Nnbc7jlB9ZbzzSQFuve2OvN15E\",\n",
       "  \"object\": \"text_completion\",\n",
       "  \"created\": 1694316399,\n",
       "  \"model\": \"text-davinci-003\",\n",
       "  \"choices\": [\n",
       "    {\n",
       "      \"text\": \"\\n\\n1. Reach Out Socially: Making new friends is all about getting out there and interacting. Try to make time to connect with people in your everyday life: go to coffee shops, join a local sports league, take classes or attend community events.\\n\\n2. Get Involved: Participate in activities that are of interest to you. The more involved you are in activities that focus on something you love, such as art, music, theatre, or a sport, the more likely you are to meet people who share the same interests.\\n\\n3. Don't Shy Away from Conversation: Don\\u2019t be afraid to put yourself out there and start conversations. Ask people questions about themselves, share stories and experiences, and be open to getting to know other people.\\n\\n4. Don't Be Judgmental: When you first meet someone, try not to jump to conclusions or be overly judgmental. Show people respect and be kind.\\n\\n5. Take Time: Making friends isn\\u2019t something that happens overnight. It takes time and effort to get to know someone and build a strong friendship.\\n\\n6. Take Initiative: Don\\u2019t be afraid to show initiative and take the lead in organizing activities or gatherings. People will most likely appreciate your effort and be more receptive to friendship.\\n\\n7. Make an Effort: Be honest, reliable, and consistent in making an effort to stay in touch and meet up.\",\n",
       "      \"index\": 0,\n",
       "      \"logprobs\": null,\n",
       "      \"finish_reason\": \"stop\"\n",
       "    }\n",
       "  ],\n",
       "  \"usage\": {\n",
       "    \"prompt_tokens\": 12,\n",
       "    \"completion_tokens\": 295,\n",
       "    \"total_tokens\": 307\n",
       "  }\n",
       "}"
      ]
     },
     "execution_count": 12,
     "metadata": {},
     "output_type": "execute_result"
    }
   ],
   "source": [
    "response"
   ]
  },
  {
   "cell_type": "code",
   "execution_count": 15,
   "id": "915274d6-7d4e-4f44-a4d1-bb4f8c0285c1",
   "metadata": {},
   "outputs": [
    {
     "name": "stdout",
     "output_type": "stream",
     "text": [
      "\n",
      "\n",
      "1. Reach Out Socially: Making new friends is all about getting out there and interacting. Try to make time to connect with people in your everyday life: go to coffee shops, join a local sports league, take classes or attend community events.\n",
      "\n",
      "2. Get Involved: Participate in activities that are of interest to you. The more involved you are in activities that focus on something you love, such as art, music, theatre, or a sport, the more likely you are to meet people who share the same interests.\n",
      "\n",
      "3. Don't Shy Away from Conversation: Don’t be afraid to put yourself out there and start conversations. Ask people questions about themselves, share stories and experiences, and be open to getting to know other people.\n",
      "\n",
      "4. Don't Be Judgmental: When you first meet someone, try not to jump to conclusions or be overly judgmental. Show people respect and be kind.\n",
      "\n",
      "5. Take Time: Making friends isn’t something that happens overnight. It takes time and effort to get to know someone and build a strong friendship.\n",
      "\n",
      "6. Take Initiative: Don’t be afraid to show initiative and take the lead in organizing activities or gatherings. People will most likely appreciate your effort and be more receptive to friendship.\n",
      "\n",
      "7. Make an Effort: Be honest, reliable, and consistent in making an effort to stay in touch and meet up.\n"
     ]
    }
   ],
   "source": [
    "print(response['choices'][0]['text'])"
   ]
  },
  {
   "cell_type": "code",
   "execution_count": null,
   "id": "3d91bdcf-4989-4c6c-bf2e-ce53046ae264",
   "metadata": {},
   "outputs": [],
   "source": []
  }
 ],
 "metadata": {
  "kernelspec": {
   "display_name": "Python 3 (ipykernel)",
   "language": "python",
   "name": "python3"
  },
  "language_info": {
   "codemirror_mode": {
    "name": "ipython",
    "version": 3
   },
   "file_extension": ".py",
   "mimetype": "text/x-python",
   "name": "python",
   "nbconvert_exporter": "python",
   "pygments_lexer": "ipython3",
   "version": "3.8.5"
  }
 },
 "nbformat": 4,
 "nbformat_minor": 5
}
